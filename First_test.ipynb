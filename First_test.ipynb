{
 "cells": [
  {
   "cell_type": "code",
   "execution_count": 1,
   "metadata": {
    "execution": {
     "iopub.execute_input": "2024-02-19T16:29:52.176833Z",
     "iopub.status.busy": "2024-02-19T16:29:52.176105Z",
     "iopub.status.idle": "2024-02-19T16:29:54.161003Z",
     "shell.execute_reply": "2024-02-19T16:29:54.159781Z",
     "shell.execute_reply.started": "2024-02-19T16:29:52.176779Z"
    }
   },
   "outputs": [],
   "source": [
    "import numpy as np\n",
    "import scipy.io\n",
    "import matplotlib.pyplot as plt\n",
    "import torch\n",
    "import torch.nn as nn\n",
    "import torch.nn.functional as F\n",
    "from tqdm import tqdm\n",
    "from common.utils import*\n",
    "from common.networks import*\n"
   ]
  },
  {
   "cell_type": "markdown",
   "metadata": {},
   "source": [
    "### LOAD DATA"
   ]
  },
  {
   "cell_type": "code",
   "execution_count": 3,
   "metadata": {
    "execution": {
     "iopub.execute_input": "2024-02-19T16:30:27.631368Z",
     "iopub.status.busy": "2024-02-19T16:30:27.630393Z",
     "iopub.status.idle": "2024-02-19T16:30:27.668936Z",
     "shell.execute_reply": "2024-02-19T16:30:27.667786Z",
     "shell.execute_reply.started": "2024-02-19T16:30:27.631323Z"
    }
   },
   "outputs": [
    {
     "name": "stdout",
     "output_type": "stream",
     "text": [
      "(39, 320)\n"
     ]
    }
   ],
   "source": [
    "mat = scipy.io.loadmat('./binaryalphadigs.mat')\n",
    "arrays_list = [ lire_alpha(mat['dat'],i) for i in range(1)]\n",
    "device = torch.device('cuda') if torch.cuda.is_available() else torch.device('cpu')\n",
    "test = np.concatenate(arrays_list, axis=0)\n",
    "np.random.shuffle(test)\n",
    "print(test.shape)"
   ]
  },
  {
   "cell_type": "code",
   "execution_count": 4,
   "metadata": {
    "execution": {
     "iopub.execute_input": "2024-02-19T16:30:30.120634Z",
     "iopub.status.busy": "2024-02-19T16:30:30.120072Z",
     "iopub.status.idle": "2024-02-19T16:30:30.206267Z",
     "shell.execute_reply": "2024-02-19T16:30:30.205336Z",
     "shell.execute_reply.started": "2024-02-19T16:30:30.120601Z"
    }
   },
   "outputs": [
    {
     "data": {
      "text/plain": [
       "<matplotlib.image.AxesImage at 0x7fe6807bcd60>"
      ]
     },
     "execution_count": 4,
     "metadata": {},
     "output_type": "execute_result"
    },
    {
     "data": {
      "image/png": "[encoded data removed]",
      "text/plain": [
       "<Figure size 300x300 with 1 Axes>"
      ]
     },
     "metadata": {},
     "output_type": "display_data"
    }
   ],
   "source": [
    "plt.figure(figsize=(3,3))\n",
    "plt.xticks([])\n",
    "plt.yticks([])\n",
    "plt.imshow(test[0].reshape(20,16),cmap='gray')"
   ]
  },
  {
   "cell_type": "markdown",
   "metadata": {},
   "source": [
    "# Test RBM - ALPHADigits"
   ]
  },
  {
   "cell_type": "markdown",
   "metadata": {},
   "source": [
    "### First on one digit"
   ]
  },
  {
   "cell_type": "markdown",
   "metadata": {},
   "source": [
    "**We will train the rbm for 1000 epochs and a batch size of 15 and perform only one gibbs sampling**"
   ]
  },
  {
   "cell_type": "code",
   "execution_count": 6,
   "metadata": {
    "execution": {
     "iopub.execute_input": "2024-02-19T16:30:51.972718Z",
     "iopub.status.busy": "2024-02-19T16:30:51.972345Z",
     "iopub.status.idle": "2024-02-19T16:31:00.230619Z",
     "shell.execute_reply": "2024-02-19T16:31:00.229390Z",
     "shell.execute_reply.started": "2024-02-19T16:30:51.972690Z"
    }
   },
   "outputs": [],
   "source": [
    "input_size = test.shape[1]\n",
    "hidden_size = 100\n",
    "rbm = RBM(input_size,hidden_size,device)\n",
    "digits_test = torch.tensor(test).float().to(device) # convert to tensor\n",
    "rbm.train(data=digits_test,n_steps=1000,alpha=0.1,mode=\"batch\",batch_size=15,k=1) "
   ]
  },
  {
   "cell_type": "markdown",
   "metadata": {},
   "source": [
    "**Now we test if we can reconstruct an image**"
   ]
  },
  {
   "cell_type": "code",
   "execution_count": 8,
   "metadata": {
    "execution": {
     "iopub.execute_input": "2024-02-19T16:31:40.015339Z",
     "iopub.status.busy": "2024-02-19T16:31:40.014776Z",
     "iopub.status.idle": "2024-02-19T16:31:40.230891Z",
     "shell.execute_reply": "2024-02-19T16:31:40.230121Z",
     "shell.execute_reply.started": "2024-02-19T16:31:40.015301Z"
    }
   },
   "outputs": [
    {
     "data": {
      "text/plain": [
       "<matplotlib.image.AxesImage at 0x7fe678075520>"
      ]
     },
     "execution_count": 8,
     "metadata": {},
     "output_type": "execute_result"
    },
    {
     "data": {
      "image/png": "[encoded data removed]",
      "text/plain": [
       "<Figure size 500x500 with 2 Axes>"
      ]
     },
     "metadata": {},
     "output_type": "display_data"
    }
   ],
   "source": [
    "idx = np.random.randint(0,test.shape[0])\n",
    "pic = torch.tensor(test[idx]).float().to(device)\n",
    "b = rbm.forward(pic) # entree sortie\n",
    "p = rbm.backward(b) # sortie entree\n",
    "plt.figure(figsize=(5,5))\n",
    "plt.subplot(1,2,1)\n",
    "plt.imshow(pic.detach().cpu().numpy().reshape(20,16),cmap='gray')\n",
    "plt.subplot(1,2,2)\n",
    "plt.imshow(p.detach().cpu().numpy().reshape(20,16),cmap='gray')"
   ]
  },
  {
   "cell_type": "markdown",
   "metadata": {},
   "source": [
    "**Perfect we were able to reconstruct an image. Now we will test the generation performance**"
   ]
  },
  {
   "cell_type": "code",
   "execution_count": 9,
   "metadata": {
    "execution": {
     "iopub.execute_input": "2024-02-19T16:31:43.101273Z",
     "iopub.status.busy": "2024-02-19T16:31:43.100232Z",
     "iopub.status.idle": "2024-02-19T16:31:47.197681Z",
     "shell.execute_reply": "2024-02-19T16:31:47.196528Z",
     "shell.execute_reply.started": "2024-02-19T16:31:43.101229Z"
    }
   },
   "outputs": [
    {
     "data": {
      "image/png": "[encoded data removed]",
      "text/plain": [
       "<Figure size 1000x200 with 20 Axes>"
      ]
     },
     "metadata": {},
     "output_type": "display_data"
    }
   ],
   "source": [
    "gen = rbm.generate(20,1000) # we generate 20 images and perform 100 gibbs sampling\n",
    "plt.figure(figsize=(10,2))\n",
    "for i in range(20):\n",
    "    plt.subplot(2,10,i+1)\n",
    "    plt.imshow(gen[i].detach().cpu().numpy().reshape(20,16),cmap='gray')\n",
    "    plt.xticks([]),plt.yticks([])"
   ]
  },
  {
   "cell_type": "markdown",
   "metadata": {},
   "source": [
    "**For now our model can reconstruct and generate samples for digit 0. Now we will test with more digits**"
   ]
  },
  {
   "cell_type": "markdown",
   "metadata": {},
   "source": [
    "### With 5 digits"
   ]
  },
  {
   "cell_type": "code",
   "execution_count": 10,
   "metadata": {
    "execution": {
     "iopub.execute_input": "2024-02-19T16:31:51.488372Z",
     "iopub.status.busy": "2024-02-19T16:31:51.487079Z",
     "iopub.status.idle": "2024-02-19T16:31:51.498215Z",
     "shell.execute_reply": "2024-02-19T16:31:51.496776Z",
     "shell.execute_reply.started": "2024-02-19T16:31:51.488257Z"
    }
   },
   "outputs": [
    {
     "name": "stdout",
     "output_type": "stream",
     "text": [
      "(195, 320)\n"
     ]
    }
   ],
   "source": [
    "arrays_list = [ lire_alpha(mat['dat'],i) for i in range(5)]\n",
    "test = np.concatenate(arrays_list, axis=0)\n",
    "np.random.shuffle(test)\n",
    "print(test.shape)"
   ]
  },
  {
   "cell_type": "code",
   "execution_count": 11,
   "metadata": {
    "execution": {
     "iopub.execute_input": "2024-02-19T16:32:09.573004Z",
     "iopub.status.busy": "2024-02-19T16:32:09.572453Z",
     "iopub.status.idle": "2024-02-19T16:32:58.197964Z",
     "shell.execute_reply": "2024-02-19T16:32:58.196942Z",
     "shell.execute_reply.started": "2024-02-19T16:32:09.572961Z"
    }
   },
   "outputs": [],
   "source": [
    "input_size = test.shape[1]\n",
    "hidden_size = 100\n",
    "rbm = RBM(input_size,hidden_size,device)\n",
    "digits_test = torch.tensor(test).float().to(device) # convert to tensor\n",
    "rbm.train(data=digits_test,n_steps=1000,alpha=0.1,mode=\"batch\",batch_size=100,k=1) "
   ]
  },
  {
   "cell_type": "code",
   "execution_count": 17,
   "metadata": {
    "execution": {
     "iopub.execute_input": "2024-02-19T16:33:22.236738Z",
     "iopub.status.busy": "2024-02-19T16:33:22.235738Z",
     "iopub.status.idle": "2024-02-19T16:33:22.487918Z",
     "shell.execute_reply": "2024-02-19T16:33:22.487006Z",
     "shell.execute_reply.started": "2024-02-19T16:33:22.236693Z"
    }
   },
   "outputs": [
    {
     "data": {
      "text/plain": [
       "<matplotlib.image.AxesImage at 0x7fe5e83ddaf0>"
      ]
     },
     "execution_count": 17,
     "metadata": {},
     "output_type": "execute_result"
    },
    {
     "data": {
      "image/png": "[encoded data removed]",
      "text/plain": [
       "<Figure size 500x500 with 2 Axes>"
      ]
     },
     "metadata": {},
     "output_type": "display_data"
    }
   ],
   "source": [
    "idx = np.random.randint(0,test.shape[0])\n",
    "pic = torch.tensor(test[idx]).float().to(device)\n",
    "b = rbm.forward(pic) # entree sortie\n",
    "p = rbm.backward(b) # sortie entree\n",
    "plt.figure(figsize=(5,5))\n",
    "plt.subplot(1,2,1)\n",
    "plt.imshow(pic.detach().cpu().numpy().reshape(20,16),cmap='gray')\n",
    "plt.subplot(1,2,2)\n",
    "plt.imshow(p.detach().cpu().numpy().reshape(20,16),cmap='gray')"
   ]
  },
  {
   "cell_type": "markdown",
   "metadata": {},
   "source": [
    "**We are able to reconstruct digit 2**"
   ]
  },
  {
   "cell_type": "code",
   "execution_count": 18,
   "metadata": {
    "execution": {
     "iopub.execute_input": "2024-02-19T16:33:26.305967Z",
     "iopub.status.busy": "2024-02-19T16:33:26.305387Z",
     "iopub.status.idle": "2024-02-19T16:33:46.174883Z",
     "shell.execute_reply": "2024-02-19T16:33:46.173776Z",
     "shell.execute_reply.started": "2024-02-19T16:33:26.305936Z"
    }
   },
   "outputs": [
    {
     "data": {
      "image/png": "[encoded data removed]",
      "text/plain": [
       "<Figure size 2000x500 with 100 Axes>"
      ]
     },
     "metadata": {},
     "output_type": "display_data"
    }
   ],
   "source": [
    "gen = rbm.generate(100,1000) # we generate 100 images and perform 1000 gibbs sampling\n",
    "plt.figure(figsize=(20,5))\n",
    "for i in range(100):\n",
    "    plt.subplot(5,20,i+1)\n",
    "    plt.imshow(gen[i].detach().cpu().numpy().reshape(20,16),cmap='gray')\n",
    "    plt.xticks([]),plt.yticks([])"
   ]
  },
  {
   "cell_type": "markdown",
   "metadata": {},
   "source": [
    "**The digit 0 is being well generated .The digit 1 less and the digit 2 not  well**"
   ]
  },
  {
   "cell_type": "markdown",
   "metadata": {},
   "source": [
    "Now will test the DBN"
   ]
  },
  {
   "cell_type": "markdown",
   "metadata": {},
   "source": [
    "# TEST DBN ALPHADigits"
   ]
  },
  {
   "cell_type": "code",
   "execution_count": 19,
   "metadata": {
    "execution": {
     "iopub.execute_input": "2024-02-19T16:33:58.217690Z",
     "iopub.status.busy": "2024-02-19T16:33:58.216649Z",
     "iopub.status.idle": "2024-02-19T16:33:58.225276Z",
     "shell.execute_reply": "2024-02-19T16:33:58.224188Z",
     "shell.execute_reply.started": "2024-02-19T16:33:58.217650Z"
    }
   },
   "outputs": [
    {
     "name": "stdout",
     "output_type": "stream",
     "text": [
      "(390, 320)\n"
     ]
    }
   ],
   "source": [
    "arrays_list = [ lire_alpha(mat['dat'],i) for i in range(10)] # we charge all the digits\n",
    "test = np.concatenate(arrays_list, axis=0)\n",
    "np.random.shuffle(test)\n",
    "print(test.shape)"
   ]
  },
  {
   "cell_type": "code",
   "execution_count": 20,
   "metadata": {
    "execution": {
     "iopub.execute_input": "2024-02-19T16:34:10.231349Z",
     "iopub.status.busy": "2024-02-19T16:34:10.230994Z",
     "iopub.status.idle": "2024-02-19T16:40:45.289517Z",
     "shell.execute_reply": "2024-02-19T16:40:45.288487Z",
     "shell.execute_reply.started": "2024-02-19T16:34:10.231321Z"
    }
   },
   "outputs": [
    {
     "name": "stderr",
     "output_type": "stream",
     "text": [
      "100%|██████████| 3/3 [06:35<00:00, 131.67s/it]\n"
     ]
    }
   ],
   "source": [
    "# init the DBN with 3 layers \n",
    "hidden_sizes = [64,128,256]\n",
    "input_size = test.shape[1]\n",
    "dbn = DBN(input_size,hidden_sizes,device)\n",
    "digits_test = torch.tensor(test).float().to(device)\n",
    "# we train for 2000 epochs with a batchsize of 128 and perform 1 gibbs sampling\n",
    "dbn.train(data=digits_test,n_steps=2000,alpha=1e-1,mode=\"batch\",batch_size=128,k=1)"
   ]
  },
  {
   "cell_type": "code",
   "execution_count": 22,
   "metadata": {
    "execution": {
     "iopub.execute_input": "2024-02-19T16:41:20.867284Z",
     "iopub.status.busy": "2024-02-19T16:41:20.865967Z",
     "iopub.status.idle": "2024-02-19T16:41:41.128132Z",
     "shell.execute_reply": "2024-02-19T16:41:41.127417Z",
     "shell.execute_reply.started": "2024-02-19T16:41:20.867214Z"
    }
   },
   "outputs": [
    {
     "data": {
      "image/png": "[encoded data removed]",
      "text/plain": [
       "<Figure size 2000x500 with 100 Axes>"
      ]
     },
     "metadata": {},
     "output_type": "display_data"
    }
   ],
   "source": [
    "gen2 = dbn.generate(100,1000) # we generate 100 samples and perform 100 gibbs sampling\n",
    "plt.figure(figsize=(20,5))\n",
    "for i in range(100):\n",
    "    plt.subplot(5,20,i+1)\n",
    "    plt.imshow(gen2[i].detach().cpu().numpy().reshape(20,16),cmap='gray')\n",
    "    plt.xticks([])\n",
    "    plt.yticks([])"
   ]
  },
  {
   "cell_type": "markdown",
   "metadata": {},
   "source": [
    "**The digits are more well generated with a DBN**"
   ]
  },
  {
   "cell_type": "markdown",
   "metadata": {},
   "source": [
    "# TEST DNN - MNIST"
   ]
  },
  {
   "cell_type": "code",
   "execution_count": 23,
   "metadata": {
    "execution": {
     "iopub.execute_input": "2024-02-19T16:41:41.130213Z",
     "iopub.status.busy": "2024-02-19T16:41:41.129719Z",
     "iopub.status.idle": "2024-02-19T16:41:41.429862Z",
     "shell.execute_reply": "2024-02-19T16:41:41.429073Z",
     "shell.execute_reply.started": "2024-02-19T16:41:41.130178Z"
    }
   },
   "outputs": [],
   "source": [
    "# Create a DataLoader\n",
    "train_dataset,test_dataset = load_mnist(2000) # first we load 2000 random digits for the training\n",
    "train_loader = DataLoader(train_dataset, batch_size=128, shuffle=True)\n",
    "test_loader = DataLoader(test_dataset, batch_size=128, shuffle=False)"
   ]
  },
  {
   "cell_type": "code",
   "execution_count": 24,
   "metadata": {
    "execution": {
     "iopub.execute_input": "2024-02-19T16:41:41.431588Z",
     "iopub.status.busy": "2024-02-19T16:41:41.431112Z",
     "iopub.status.idle": "2024-02-19T16:41:41.717790Z",
     "shell.execute_reply": "2024-02-19T16:41:41.716801Z",
     "shell.execute_reply.started": "2024-02-19T16:41:41.431559Z"
    }
   },
   "outputs": [
    {
     "data": {
      "image/png": "[encoded data removed]",
      "text/plain": [
       "<Figure size 500x200 with 6 Axes>"
      ]
     },
     "metadata": {},
     "output_type": "display_data"
    }
   ],
   "source": [
    "images, labels = next(iter(train_loader))\n",
    "fig, axes = plt.subplots(nrows=2, ncols=3, figsize=(5, 2))\n",
    "for i, ax in enumerate(axes.flat):\n",
    "    img = images[i].squeeze() #\n",
    "    ax.imshow(img.reshape(20,16), cmap='gray') \n",
    "    ax.set_title(f'Label: {labels[i].item()}') \n",
    "    ax.axis('off') \n",
    "\n",
    "plt.tight_layout() # Ajuster automatiquement les sous-plots pour qu'ils s'insèrent dans la figure\n",
    "plt.show()"
   ]
  },
  {
   "cell_type": "markdown",
   "metadata": {},
   "source": [
    "### Pretraining"
   ]
  },
  {
   "cell_type": "code",
   "execution_count": 26,
   "metadata": {
    "execution": {
     "iopub.execute_input": "2024-02-19T16:42:44.213696Z",
     "iopub.status.busy": "2024-02-19T16:42:44.213094Z",
     "iopub.status.idle": "2024-02-19T16:44:25.376530Z",
     "shell.execute_reply": "2024-02-19T16:44:25.375797Z",
     "shell.execute_reply.started": "2024-02-19T16:42:44.213662Z"
    }
   },
   "outputs": [
    {
     "name": "stderr",
     "output_type": "stream",
     "text": [
      "100%|██████████| 3/3 [01:41<00:00, 33.71s/it]\n"
     ]
    }
   ],
   "source": [
    "hidden_sizes = [100,100,100]\n",
    "num_classes = 10\n",
    "input_size = test.shape[1]\n",
    "model = DNN(input_size,hidden_sizes,num_classes,device)\n",
    "digits_test = torch.tensor(test).float().to(device)\n",
    "model.pretrain(digits_test,n_steps=2000,alpha=1e-1,mode=\"batch\",batch_size=32,k=1) # we pretrain the DNN  for 2000 epochs and a batch of 32"
   ]
  },
  {
   "cell_type": "markdown",
   "metadata": {},
   "source": [
    "**Now we train the DNN on a supervised manner for 50 epochs**"
   ]
  },
  {
   "cell_type": "code",
   "execution_count": 28,
   "metadata": {
    "execution": {
     "iopub.execute_input": "2024-02-19T16:46:50.967474Z",
     "iopub.status.busy": "2024-02-19T16:46:50.967134Z",
     "iopub.status.idle": "2024-02-19T16:47:27.332337Z",
     "shell.execute_reply": "2024-02-19T16:47:27.330995Z",
     "shell.execute_reply.started": "2024-02-19T16:46:50.967448Z"
    }
   },
   "outputs": [
    {
     "name": "stderr",
     "output_type": "stream",
     "text": [
      "100%|██████████| 100/100 [00:36<00:00,  2.75it/s]\n"
     ]
    }
   ],
   "source": [
    "model = model.to(device)\n",
    "model.train(dataloader=train_loader,n_epochs=100,lr=1e-3)"
   ]
  },
  {
   "cell_type": "code",
   "execution_count": 29,
   "metadata": {
    "execution": {
     "iopub.execute_input": "2024-02-19T16:47:27.335607Z",
     "iopub.status.busy": "2024-02-19T16:47:27.335159Z",
     "iopub.status.idle": "2024-02-19T16:47:28.815766Z",
     "shell.execute_reply": "2024-02-19T16:47:28.814925Z",
     "shell.execute_reply.started": "2024-02-19T16:47:27.335555Z"
    }
   },
   "outputs": [
    {
     "data": {
      "text/plain": [
       "0.8721"
      ]
     },
     "execution_count": 29,
     "metadata": {},
     "output_type": "execute_result"
    }
   ],
   "source": [
    "model.evaluate(test_loader) # we evaluate on the test"
   ]
  }
 ],
 "metadata": {
  "kernelspec": {
   "display_name": "Python 3 (ipykernel)",
   "language": "python",
   "name": "python3"
  },
  "language_info": {
   "codemirror_mode": {
    "name": "ipython",
    "version": 3
   },
   "file_extension": ".py",
   "mimetype": "text/x-python",
   "name": "python",
   "nbconvert_exporter": "python",
   "pygments_lexer": "ipython3",
   "version": "3.9.16"
  }
 },
 "nbformat": 4,
 "nbformat_minor": 4
}
