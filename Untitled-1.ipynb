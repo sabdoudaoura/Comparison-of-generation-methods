{
 "cells": [
  {
   "cell_type": "code",
   "execution_count": 30,
   "metadata": {},
   "outputs": [],
   "source": [
    "import matplotlib.pyplot as plt\n",
    "from scipy.io.matlab import loadmat"
   ]
  },
  {
   "cell_type": "code",
   "execution_count": 4,
   "metadata": {},
   "outputs": [],
   "source": [
    "fichier = loadmat(\"binaryalphadigs\")"
   ]
  },
  {
   "cell_type": "code",
   "execution_count": 89,
   "metadata": {},
   "outputs": [
    {
     "data": {
      "image/png": "[encoded data removed]",
      "text/plain": [
       "<Figure size 640x480 with 1 Axes>"
      ]
     },
     "metadata": {},
     "output_type": "display_data"
    }
   ],
   "source": [
    "plt.imshow(fichier['dat'][33][38], cmap='gray')\n",
    "plt.show()"
   ]
  },
  {
   "cell_type": "code",
   "execution_count": 83,
   "metadata": {},
   "outputs": [],
   "source": [
    "def lire_alpha_digit(chars):\n",
    "\n",
    "    file = loadmat(\"binaryalphadigs\")\n",
    "\n",
    "    #create matching dict\n",
    "    matching_dict = {}\n",
    "    for i in range(0,36):\n",
    "        matching_dict[file['classlabels'][0][i][0]] = i\n",
    "\n",
    "    keys = [matching_dict[char] for char in chars]\n",
    "\n",
    "    x=20\n",
    "    y=16\n",
    "    nb_elements=39\n",
    "\n",
    "    for k in keys:\n",
    "\n",
    "\n",
    "        for i in range(0,nb_elements):\n",
    "            file['dat'][k][i] = file['dat'][k][i].reshape(1, x*y)\n",
    "    \n",
    "    return file['dat'][keys]"
   ]
  },
  {
   "cell_type": "code",
   "execution_count": 86,
   "metadata": {},
   "outputs": [
    {
     "data": {
      "text/plain": [
       "(2, 39)"
      ]
     },
     "execution_count": 86,
     "metadata": {},
     "output_type": "execute_result"
    }
   ],
   "source": [
    "lire_alpha_digit(['A', 'B'])"
   ]
  },
  {
   "cell_type": "code",
   "execution_count": null,
   "metadata": {},
   "outputs": [],
   "source": [
    "# Écrire une fonction init_RBM permettant de construire et d’initialiser les poids et les biais d’un RBM.\n",
    "# Cette fonction retournera une structure RBM avec des poids et biais initialisés. On initialisera les biais\n",
    "# à 0 tandis que les poids seront initialisés aléatoirement suivant une loi normale centrée, de variance\n",
    "# égale à 0.01.\n"
   ]
  },
  {
   "cell_type": "code",
   "execution_count": null,
   "metadata": {},
   "outputs": [],
   "source": []
  },
  {
   "cell_type": "code",
   "execution_count": null,
   "metadata": {},
   "outputs": [],
   "source": []
  },
  {
   "cell_type": "code",
   "execution_count": null,
   "metadata": {},
   "outputs": [],
   "source": []
  }
 ],
 "metadata": {
  "kernelspec": {
   "display_name": "Python 3",
   "language": "python",
   "name": "python3"
  },
  "language_info": {
   "codemirror_mode": {
    "name": "ipython",
    "version": 3
   },
   "file_extension": ".py",
   "mimetype": "text/x-python",
   "name": "python",
   "nbconvert_exporter": "python",
   "pygments_lexer": "ipython3",
   "version": "3.11.5"
  }
 },
 "nbformat": 4,
 "nbformat_minor": 2
}
